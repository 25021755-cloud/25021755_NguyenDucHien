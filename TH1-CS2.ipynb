{
 "cells": [
  {
   "cell_type": "code",
   "execution_count": 1,
   "id": "bd3e129b-678b-4274-bcb0-62251a98ef3a",
   "metadata": {},
   "outputs": [
    {
     "name": "stdout",
     "output_type": "stream",
     "text": [
      "5\n"
     ]
    }
   ],
   "source": [
    "a = 7\n",
    "b = 2\n",
    "c = a - b\n",
    "print(c)"
   ]
  },
  {
   "cell_type": "code",
   "execution_count": 2,
   "id": "ab502cef-5fee-4a6a-8cff-bd66b787ea23",
   "metadata": {},
   "outputs": [
    {
     "name": "stdout",
     "output_type": "stream",
     "text": [
      "Thành phố Hà Nội năm 2025\n"
     ]
    }
   ],
   "source": [
    "city = \"Hà Nội\"\n",
    "year = \"2025\"\n",
    "print(\"Thành phố\" , city , \"năm\" , year)"
   ]
  },
  {
   "cell_type": "code",
   "execution_count": 3,
   "id": "9d35111f-d8ea-4daf-947c-515a75142640",
   "metadata": {},
   "outputs": [
    {
     "name": "stdout",
     "output_type": "stream",
     "text": [
      "1\n",
      "3\n",
      "6\n",
      "10\n"
     ]
    }
   ],
   "source": [
    "n = 4\n",
    "t = 0\n",
    "for i in range(1 , n + 1):\n",
    "    t += i\n",
    "    print(t)"
   ]
  },
  {
   "cell_type": "code",
   "execution_count": 4,
   "id": "9561888b-25a5-4397-a1e9-5607cf88b57b",
   "metadata": {},
   "outputs": [
    {
     "name": "stdout",
     "output_type": "stream",
     "text": [
      "1 là số lẻ\n",
      "2 là số chẵn\n",
      "3 là số lẻ\n",
      "4 là số chẵn\n"
     ]
    }
   ],
   "source": [
    "number = [1 ,2 ,3, 4]\n",
    "for x in number:\n",
    "    if x % 2 == 0:\n",
    "        print (x, \"là số chẵn\")\n",
    "    else:\n",
    "        print (x, \"là số lẻ\")"
   ]
  },
  {
   "cell_type": "code",
   "execution_count": 5,
   "id": "f57c7711-4071-4c86-a48a-4a9a65b95d3a",
   "metadata": {},
   "outputs": [
    {
     "name": "stdout",
     "output_type": "stream",
     "text": [
      "Số phần tử trong danh sách là 4\n"
     ]
    }
   ],
   "source": [
    "animals = [\"cat\",\"dog\",\"cat\",\"bird\"]\n",
    "count = 0\n",
    "for a in animals:\n",
    "    count += 1\n",
    "print(\"Số phần tử trong danh sách là\" , count)"
   ]
  },
  {
   "cell_type": "code",
   "execution_count": 9,
   "id": "ef443d0c-d992-4670-bde4-21e7b78ef4cd",
   "metadata": {},
   "outputs": [
    {
     "name": "stdin",
     "output_type": "stream",
     "text": [
      "Nhập số:  2\n"
     ]
    },
    {
     "name": "stdout",
     "output_type": "stream",
     "text": [
      "Số chẵn\n"
     ]
    }
   ],
   "source": [
    "num = int(input(\"Nhập số: \")) \n",
    "if num % 2 == 0: \n",
    "  print(\"Số chẵn\") \n",
    "else:\n",
    "  print(\"Số lẻ\") "
   ]
  },
  {
   "cell_type": "code",
   "execution_count": 12,
   "id": "8ba985b0-55b8-4b0a-a3d5-4977197f6e59",
   "metadata": {},
   "outputs": [
    {
     "name": "stdout",
     "output_type": "stream",
     "text": [
      "AI đang học lần 1\n",
      "AI đang học lần 2\n",
      "AI đang học lần 3\n",
      "Huấn luyện xong!\n"
     ]
    }
   ],
   "source": [
    "for i in range(3): \n",
    " print(\"AI đang học lần\", i + 1) \n",
    "print(\"Huấn luyện xong!\") "
   ]
  },
  {
   "cell_type": "code",
   "execution_count": 13,
   "id": "cd7fea0d-43cf-46d7-8e60-05558c1df7d8",
   "metadata": {},
   "outputs": [
    {
     "name": "stdout",
     "output_type": "stream",
     "text": [
      "Dự đoán con vật: cat\n",
      "Dự đoán con vật: dog\n",
      "Dự đoán con vật: fish\n"
     ]
    }
   ],
   "source": [
    "for x in [\"cat\", \"dog\", \"fish\"]: \n",
    " print(\"Dự đoán con vật:\", x) "
   ]
  },
  {
   "cell_type": "code",
   "execution_count": 22,
   "id": "6382ffe2-954c-43c4-bd76-7ee7be6a537a",
   "metadata": {},
   "outputs": [
    {
     "name": "stdout",
     "output_type": "stream",
     "text": [
      "=== AI Prediction System ===\n",
      "1) Sentiment analysis\n",
      "2) Weather forecast\n",
      "3) Exit\n",
      "Please choose an option:\n"
     ]
    }
   ],
   "source": [
    "# Simple menu \n",
    "print (\"=== AI Prediction System ===\")  \n",
    "print(\"1) Sentiment analysis\")\n",
    "print(\"2) Weather forecast\")  \n",
    "print('3) Exit') \n",
    "print(\"Please choose an option:\")"
   ]
  }
 ],
 "metadata": {
  "kernelspec": {
   "display_name": "Python 3 (ipykernel)",
   "language": "python",
   "name": "python3"
  },
  "language_info": {
   "codemirror_mode": {
    "name": "ipython",
    "version": 3
   },
   "file_extension": ".py",
   "mimetype": "text/x-python",
   "name": "python",
   "nbconvert_exporter": "python",
   "pygments_lexer": "ipython3",
   "version": "3.13.7"
  }
 },
 "nbformat": 4,
 "nbformat_minor": 5
}
