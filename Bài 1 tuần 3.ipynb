{
 "cells": [
  {
   "cell_type": "code",
   "execution_count": 49,
   "id": "116f7b28-70ce-4e35-9713-ce48390ca9d0",
   "metadata": {},
   "outputs": [
    {
     "name": "stdin",
     "output_type": "stream",
     "text": [
      "Nhap so nguyen n = 67\n"
     ]
    },
    {
     "name": "stdout",
     "output_type": "stream",
     "text": [
      "So nguyen gap doi cua n la 134\n"
     ]
    }
   ],
   "source": [
    "n = int(input(\"Nhap so nguyen n =\"))\n",
    "print(\"So nguyen gap doi cua n la\" , 2 * n)"
   ]
  },
  {
   "cell_type": "code",
   "execution_count": 6,
   "id": "c1c57132-9922-4965-955e-b9ab8351a2fe",
   "metadata": {},
   "outputs": [
    {
     "name": "stdin",
     "output_type": "stream",
     "text": [
      "Nhap chieu rong va chieu dai manh dat: 27 98\n"
     ]
    },
    {
     "name": "stdout",
     "output_type": "stream",
     "text": [
      "Dien tich con lai de trong cay xung quanh la 2073.74\n"
     ]
    }
   ],
   "source": [
    "a , b = map(float,(input(\"Nhap chieu rong va chieu dai manh dat:\").split()))\n",
    "if a <= b and a > 0 and b > 0:\n",
    "    s = a * b - 0.785 * a ** 2 #3.14/(2^2) = 0.785\n",
    "    S = round(s , 2)\n",
    "    print(\"Dien tich con lai de trong cay xung quanh la\" , S)\n",
    "else:\n",
    "    print(\"Khong tinh duoc\")"
   ]
  },
  {
   "cell_type": "code",
   "execution_count": 7,
   "id": "f042f028-7326-4f7f-a510-2ac0db6d640b",
   "metadata": {},
   "outputs": [
    {
     "name": "stdin",
     "output_type": "stream",
     "text": [
      "Nhap 1 ki tu la chu cai: f\n"
     ]
    },
    {
     "name": "stdout",
     "output_type": "stream",
     "text": [
      "Chu cai in hoa tuong ung la F\n"
     ]
    }
   ],
   "source": [
    "c = input(\"Nhap 1 ki tu la chu cai:\")\n",
    "if 64 < ord(c) < 91:\n",
    "    print(\"Chu cai in thuong tuong ung la\" , chr(ord(c) + 32))\n",
    "elif 96 < ord(c) < 123:\n",
    "    print(\"Chu cai in hoa tuong ung la\" , chr(ord(c) - 32))\n",
    "else:\n",
    "    print(\"Khong tim duoc chu cai tuong ung\")"
   ]
  },
  {
   "cell_type": "code",
   "execution_count": 8,
   "id": "4cc0700c-9956-40b1-95dd-dec9a3bd6dd4",
   "metadata": {},
   "outputs": [
    {
     "name": "stdin",
     "output_type": "stream",
     "text": [
      "Nhap 1 ki tu: k\n"
     ]
    },
    {
     "name": "stdout",
     "output_type": "stream",
     "text": [
      "k la ki tu alphabet\n"
     ]
    }
   ],
   "source": [
    "c = input(\"Nhap 1 ki tu:\")\n",
    "if 64 < ord(c) < 91 or 96 < ord(c) < 123:\n",
    "    print(c , \"la ki tu alphabet\")\n",
    "else:\n",
    "    print(c ,\"khong la ki tu alphabet\")"
   ]
  },
  {
   "cell_type": "code",
   "execution_count": 1,
   "id": "1c43be94-03a9-4a29-b518-9b866f1ecb3c",
   "metadata": {},
   "outputs": [
    {
     "name": "stdin",
     "output_type": "stream",
     "text": [
      "Nhap 1 chu cai hoa: h\n"
     ]
    },
    {
     "name": "stdout",
     "output_type": "stream",
     "text": [
      "Day khong phai chu cai hoa\n"
     ]
    }
   ],
   "source": [
    "c = input(\"Nhap 1 chu cai hoa:\")\n",
    "if 65 < ord(c) < 91:\n",
    "    print(\"Chu cai thuong lien truoc\" , c , \"la\" , chr(ord(c) + 31))\n",
    "elif ord(c) == 65:\n",
    "    print(\"Truong hop dac biet, khong tim duoc chu cai thoa man\")\n",
    "else:\n",
    "    print(\"Day khong phai chu cai hoa\")"
   ]
  },
  {
   "cell_type": "code",
   "execution_count": 9,
   "id": "126f57ed-6e21-4ada-afe5-40f79e7cea2b",
   "metadata": {},
   "outputs": [
    {
     "name": "stdin",
     "output_type": "stream",
     "text": [
      "Nhap do dai 3 canh cua tam giac: 23 23 24\n"
     ]
    },
    {
     "name": "stdout",
     "output_type": "stream",
     "text": [
      "Dien tich tam giac la (lam tron 1 cstp): 235.5\n"
     ]
    }
   ],
   "source": [
    "a , b , c = map(int,(input(\"Nhap do dai 3 canh cua tam giac:\").split()))\n",
    "if a > 0 and b > 0 and c > 0 and a + b > c and b + c > a and a + c > b:\n",
    "    p = (a + b + c) / 2\n",
    "    s = (p * (p - a) * (p - b) * (p - c)) ** 0.5\n",
    "    S = round(s , 1)\n",
    "    print(\"Dien tich tam giac la (lam tron 1 cstp):\" , S)\n",
    "else:\n",
    "    print(\"Day khong phai 3 canh cua 1 tam giac\")"
   ]
  },
  {
   "cell_type": "code",
   "execution_count": 50,
   "id": "1a9868fe-d34d-40dd-807c-e7e932449ff9",
   "metadata": {},
   "outputs": [
    {
     "name": "stdin",
     "output_type": "stream",
     "text": [
      "Nhap chuoi ki tu thuong (toi thieu 20 ki tu): hdsejrtigkvkmdmfmvkfkrkeodspsekrkgfiv\n"
     ]
    },
    {
     "name": "stdout",
     "output_type": "stream",
     "text": [
      "Chu cai thu 5 trong day la j\n",
      "Chu cai thu 9 trong day la g\n"
     ]
    }
   ],
   "source": [
    "c = input(\"Nhap chuoi ki tu thuong (toi thieu 20 ki tu):\")\n",
    "if len(c) >= 20:\n",
    "    print(\"Chu cai thu 5 trong day la\" , c[4])\n",
    "    print(\"Chu cai thu 9 trong day la\" , c[8])\n",
    "else:\n",
    "    print(\"Chuoi chua dat so luong ki tu toi thieu\")"
   ]
  },
  {
   "cell_type": "code",
   "execution_count": 13,
   "id": "ec683163-97d4-4892-8346-78d567439648",
   "metadata": {},
   "outputs": [
    {
     "name": "stdin",
     "output_type": "stream",
     "text": [
      "Nhap ten chu ho: t\n",
      "Chi so thang truoc: 2012\n",
      "Chi so thang nay: 2510\n"
     ]
    },
    {
     "name": "stdout",
     "output_type": "stream",
     "text": [
      "Ten chu ho: t\n",
      "Tien phai tra la 1526666 dong\n"
     ]
    }
   ],
   "source": [
    "a = input(\"Nhap ten chu ho:\")\n",
    "b = int(input(\"Chi so thang truoc:\"))\n",
    "c = int(input(\"Chi so thang nay:\"))\n",
    "if b >= 0 and c >= 0 and c >= b:\n",
    "    d = c - b\n",
    "    if 0 <= d <= 50:\n",
    "        t = 1.08 * 1984 * d\n",
    "    elif 51 <= d <= 100:\n",
    "        t = 1.08 * (1984 * 50 + 2050 * (d - 50))\n",
    "    elif 101 <= d <= 200:\n",
    "        t = 1.08 * ((1984 + 2050) * 50 + 2380 * (d - 100))\n",
    "    elif 201 <= d <= 300:\n",
    "        t = 1.08 * ((1984 + 2050) * 50 + 2380 * 100 + 2998 * (d -200))\n",
    "    elif 301 <= d <= 400:\n",
    "        t = 1.08 * ((1984 + 2050) * 50 + (2380 + 2998) * 100 + 3350 * (d - 300))\n",
    "    elif d >= 401:\n",
    "        t = 1.08 * ((1984 + 2050) * 50 + (2380 + 2998 + 3350) * 100 + 3460 * (d - 400))\n",
    "    T = int(t)\n",
    "    print(\"Ten chu ho:\" , a)\n",
    "    print(\"Tien phai tra la\" , T , \"dong\")\n",
    "else:\n",
    "    print(\"Khong tinh duoc\")"
   ]
  },
  {
   "cell_type": "code",
   "execution_count": 14,
   "id": "64b8e189-1708-40b6-9973-581b77193441",
   "metadata": {},
   "outputs": [
    {
     "name": "stdin",
     "output_type": "stream",
     "text": [
      "Nhap so nguyen n: 93\n"
     ]
    },
    {
     "name": "stdout",
     "output_type": "stream",
     "text": [
      "93 la so le\n"
     ]
    }
   ],
   "source": [
    "n = int(input(\"Nhap so nguyen n:\"))\n",
    "if n % 2 == 0:\n",
    "    print(n ,\"la so chan\")\n",
    "else:\n",
    "    print(n , \"la so le\")"
   ]
  },
  {
   "cell_type": "code",
   "execution_count": 16,
   "id": "a15707eb-7dc8-4f5d-b05c-01804c3e13f7",
   "metadata": {},
   "outputs": [
    {
     "name": "stdin",
     "output_type": "stream",
     "text": [
      "Nhap so nguyen n: 90\n"
     ]
    },
    {
     "name": "stdout",
     "output_type": "stream",
     "text": [
      "False\n"
     ]
    }
   ],
   "source": [
    "n = int(input(\"Nhap so nguyen n:\"))\n",
    "print(bool(n % 10 == 5))"
   ]
  },
  {
   "cell_type": "code",
   "execution_count": 18,
   "id": "eedc64ae-6eda-49ec-858e-40943f3c38e1",
   "metadata": {},
   "outputs": [
    {
     "name": "stdin",
     "output_type": "stream",
     "text": [
      "Nhap so nguyen n: 95\n"
     ]
    },
    {
     "name": "stdout",
     "output_type": "stream",
     "text": [
      "False\n"
     ]
    }
   ],
   "source": [
    "n = int(input(\"Nhap so nguyen n:\"))\n",
    "print(bool(n % 15 == 0)) # Chia hết cho 3 và 5 thì sẽ chia hết cho tích của chúng tức chia hết cho 15"
   ]
  },
  {
   "cell_type": "code",
   "execution_count": 17,
   "id": "f7776b92-8a03-4f79-9859-6af1add96e00",
   "metadata": {},
   "outputs": [
    {
     "name": "stdin",
     "output_type": "stream",
     "text": [
      "Nhap nam sinh cua ban: 2007\n"
     ]
    },
    {
     "name": "stdout",
     "output_type": "stream",
     "text": [
      "Ban du tuoi de bau cu\n"
     ]
    }
   ],
   "source": [
    "n = int(input(\"Nhap nam sinh cua ban:\"))\n",
    "if 2025 - n >= 18:\n",
    "    print(\"Ban du tuoi de bau cu\")\n",
    "else:\n",
    "    print(\"Ban chua du tuoi de bau cu\")"
   ]
  },
  {
   "cell_type": "code",
   "execution_count": 21,
   "id": "294c3621-d9e8-460e-9672-0e7bf7dd1c90",
   "metadata": {},
   "outputs": [
    {
     "name": "stdin",
     "output_type": "stream",
     "text": [
      "Nhap 2 so a va b: 34 34\n"
     ]
    },
    {
     "name": "stdout",
     "output_type": "stream",
     "text": [
      "Hai so bang nhau\n"
     ]
    }
   ],
   "source": [
    "a , b = map(float,(input(\"Nhap 2 so a va b:\").split()))\n",
    "if a > b:\n",
    "    print(\"So lon hon la:\" , a)\n",
    "elif a < b:\n",
    "    print(\"So lon hon la:\" , b)\n",
    "else:\n",
    "    print(\"Hai so bang nhau\")"
   ]
  },
  {
   "cell_type": "code",
   "execution_count": 19,
   "id": "cfdcdf40-86fd-4634-809e-4c811743eb32",
   "metadata": {},
   "outputs": [
    {
     "name": "stdin",
     "output_type": "stream",
     "text": [
      "Nhap 1 ki tu: 9\n"
     ]
    },
    {
     "name": "stdout",
     "output_type": "stream",
     "text": [
      "9 la chu so\n"
     ]
    }
   ],
   "source": [
    "c = input(\"Nhap 1 ki tu:\")\n",
    "if 64 < ord(c) < 91 or 96 < ord(c) < 123:\n",
    "    print(c , \"la chu cai\")\n",
    "elif 47 < ord(c) < 58:\n",
    "    print(c , \"la chu so\")\n",
    "else:\n",
    "    print(c , \"khong phai chu cai hay chu so\")"
   ]
  },
  {
   "cell_type": "code",
   "execution_count": 29,
   "id": "5106bc8e-07a3-4c06-88f2-3c883189eb06",
   "metadata": {},
   "outputs": [
    {
     "name": "stdin",
     "output_type": "stream",
     "text": [
      "Nhap diem: 9\n"
     ]
    },
    {
     "name": "stdout",
     "output_type": "stream",
     "text": [
      "Hoc luc gioi\n"
     ]
    }
   ],
   "source": [
    "d = float(input(\"Nhap diem:\"))\n",
    "if 0 <= d <= 5:\n",
    "    print(\"Hoc luc yeu\")\n",
    "if 5 < d <= 6.5:\n",
    "    print(\"Hoc luc trung binh\")\n",
    "if 6.5 < d <= 8:\n",
    "    print(\"Hoc luc kha\")\n",
    "if 8 < d <= 10:\n",
    "    print(\"Hoc luc gioi\")\n",
    "else:\n",
    "    print(\"Diem khong hop le\")"
   ]
  },
  {
   "cell_type": "code",
   "execution_count": 25,
   "id": "47c30784-10a0-455a-a83a-a30c94269755",
   "metadata": {},
   "outputs": [
    {
     "name": "stdin",
     "output_type": "stream",
     "text": [
      "Nhap nam: 2000\n"
     ]
    },
    {
     "name": "stdout",
     "output_type": "stream",
     "text": [
      "Nam do la nam nhuan\n"
     ]
    }
   ],
   "source": [
    "n = int(input(\"Nhap nam:\"))\n",
    "if n % 400 == 0 or (n % 4 == 0 and n % 100 != 0):\n",
    "    print(\"Nam do la nam nhuan\")\n",
    "else:\n",
    "    print(\"Nam do khong la nam nhuan\")"
   ]
  },
  {
   "cell_type": "code",
   "execution_count": 23,
   "id": "b6f2722c-f01e-497f-8584-1d3827920a51",
   "metadata": {},
   "outputs": [
    {
     "name": "stdin",
     "output_type": "stream",
     "text": [
      "Nhap so nguyen n: 3\n"
     ]
    },
    {
     "name": "stdout",
     "output_type": "stream",
     "text": [
      "Ba\n"
     ]
    }
   ],
   "source": [
    "n = int(input(\"Nhap so nguyen n:\"))\n",
    "match n:\n",
    "    case 0: print(\"Khong\")\n",
    "    case 1: print(\"Mot\")\n",
    "    case 2: print(\"Hai\")\n",
    "    case 3: print(\"Ba\")\n",
    "    case 4: print(\"Bon\")\n",
    "    case 5: print(\"Nam\")\n",
    "    case 6: print(\"Sau\")\n",
    "    case 7: print(\"Bay\")\n",
    "    case 8: print(\"Tam\")\n",
    "    case 9: print(\"Chin\")\n",
    "    case _: print(\"Error\")"
   ]
  },
  {
   "cell_type": "code",
   "execution_count": 27,
   "id": "84eb5c32-a198-428f-abc3-a9c59e94b415",
   "metadata": {},
   "outputs": [
    {
     "name": "stdin",
     "output_type": "stream",
     "text": [
      "Nhap diem: 7\n"
     ]
    },
    {
     "name": "stdout",
     "output_type": "stream",
     "text": [
      "Qua mon\n"
     ]
    }
   ],
   "source": [
    "d = float(input(\"Nhap diem:\"))\n",
    "if 0 <= d < 4:\n",
    "    print(\"Hoc lai\")\n",
    "elif 4 <= d <= 10:\n",
    "    print(\"Qua mon\")\n",
    "else:\n",
    "    print(\"Diem khong hop le\")"
   ]
  },
  {
   "cell_type": "code",
   "execution_count": 26,
   "id": "c66dca1a-4476-441b-854d-70517121488e",
   "metadata": {},
   "outputs": [
    {
     "name": "stdin",
     "output_type": "stream",
     "text": [
      "Nhap nam simh cua ban: 2007\n"
     ]
    },
    {
     "name": "stdout",
     "output_type": "stream",
     "text": [
      "Ban da du 18 tuoi\n"
     ]
    }
   ],
   "source": [
    "n = int(input(\"Nhap nam simh cua ban:\"))\n",
    "if 2025 - n >= 18:\n",
    "    print(\"Ban da du 18 tuoi\")\n",
    "else:\n",
    "    print(\"Ban chua du 18 tuoi\")"
   ]
  }
 ],
 "metadata": {
  "kernelspec": {
   "display_name": "Python 3 (ipykernel)",
   "language": "python",
   "name": "python3"
  },
  "language_info": {
   "codemirror_mode": {
    "name": "ipython",
    "version": 3
   },
   "file_extension": ".py",
   "mimetype": "text/x-python",
   "name": "python",
   "nbconvert_exporter": "python",
   "pygments_lexer": "ipython3",
   "version": "3.13.7"
  }
 },
 "nbformat": 4,
 "nbformat_minor": 5
}
