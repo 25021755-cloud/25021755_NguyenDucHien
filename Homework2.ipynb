{
 "cells": [
  {
   "cell_type": "code",
   "execution_count": 1,
   "id": "c0a0617f-585a-44ad-9bb6-ac41e5732b09",
   "metadata": {},
   "outputs": [
    {
     "name": "stdin",
     "output_type": "stream",
     "text": [
      "Nhap do dai 2 canh hinh chu nhat: 23.3 32.2\n"
     ]
    },
    {
     "name": "stdout",
     "output_type": "stream",
     "text": [
      "Dien tich hinh chu nhat la 750.2600000000001\n",
      "Chu vi hinh chu nhat la 111.0\n"
     ]
    }
   ],
   "source": [
    "# Nhập 2 cạnh hình chữ nhật, tính chu vi và diện tích của nó\n",
    "a , b = map(float,(input(\"Nhap do dai 2 canh hinh chu nhat:\").split()))\n",
    "if a > 0 and b > 0:\n",
    "    print(\"Dien tich hinh chu nhat la\" , a * b)\n",
    "    print(\"Chu vi hinh chu nhat la\" , 2 * (a + b))\n",
    "else:\n",
    "    print(\"Do dai canh khong phu hop!\")"
   ]
  },
  {
   "cell_type": "code",
   "execution_count": 2,
   "id": "981b277d-95fb-437c-8073-31893aa39f7f",
   "metadata": {},
   "outputs": [
    {
     "name": "stdin",
     "output_type": "stream",
     "text": [
      "Nhap ban kinh hinh tron: 2.71828\n"
     ]
    },
    {
     "name": "stdout",
     "output_type": "stream",
     "text": [
      "Dien tich hinh tron do la 23.21342741122944\n",
      "Chu vi hinh tron do la 17.079496896\n"
     ]
    }
   ],
   "source": [
    "# Nhập bán kính hình tròn, tính chu vi và diện tích của nó\n",
    "r = float(input(\"Nhap ban kinh hinh tron:\"))\n",
    "pi = 3.1416\n",
    "if r > 0:\n",
    "    print(\"Dien tich hinh tron do la\" , pi * r ** 2)\n",
    "    print(\"Chu vi hinh tron do la\" , 2 * pi * r)\n",
    "else:\n",
    "    print(\"Do dai canh khong phu hop\")"
   ]
  },
  {
   "cell_type": "code",
   "execution_count": 7,
   "id": "c03b2f12-3c51-460b-a11b-b9a536b6f5d0",
   "metadata": {},
   "outputs": [
    {
     "name": "stdin",
     "output_type": "stream",
     "text": [
      "Nhap 3 so a, b, c: 20 21 29\n"
     ]
    },
    {
     "name": "stdout",
     "output_type": "stream",
     "text": [
      "Day la tam giac vuong, co chu vi la 70.0 ,co dien tich la 210.0\n"
     ]
    }
   ],
   "source": [
    "# Nhập 3 số a, b, c và cho biết có phải 3 cạnh của tam giác không. Nếu có thì cho biết loại tam giác, chu vi và diện tích của nó\n",
    "# Nếu không thì in day khong phai 3 canh cua tam giac\n",
    "a , b , c = map(float,(input(\"Nhap 3 so a, b, c:\").split()))\n",
    "p = (a + b + c) / 2\n",
    "s = (p * (p - a) * (p - b) * (p - c)) ** 0.5\n",
    "if a > 0 and b > 0 and c > 0 and a + b > c and a + c > b and b + c > a:\n",
    "    if a == b == c:\n",
    "        print(\"Day la tam giac deu, co chu vi la\" , 2 * p , \",co dien tich la\" , s)\n",
    "    elif a == b != c or a == c != b or b == c != a:\n",
    "        print(\"Day la tam giac can, co chu vi la\" , 2 * p , \",co dien tich la\" , s)\n",
    "    elif a ** 2 + b ** 2 == c ** 2 or b ** 2 + c ** 2 == a ** 2 or a ** 2 + c ** 2 == b ** 2:\n",
    "        print(\"Day la tam giac vuong, co chu vi la\" , 2 * p , \",co dien tich la\" , s)\n",
    "    else:\n",
    "        print(\"Day la tam giac thuong, co chu vi la\" , 2 * p , \",co dien tich la\" , s)\n",
    "else:\n",
    "    print(\"Khong la 3 canh cua tam giac\")"
   ]
  },
  {
   "cell_type": "code",
   "execution_count": 14,
   "id": "3741664b-0ddf-4b3c-b132-08cb743fb116",
   "metadata": {},
   "outputs": [
    {
     "name": "stdin",
     "output_type": "stream",
     "text": [
      "Nhap 2 he so a va b cua phuong trinh ax + b = 0 34 56\n"
     ]
    },
    {
     "name": "stdout",
     "output_type": "stream",
     "text": [
      "Phuong trinh bac nhat nay co nghiem x = -1.6470588235294117\n"
     ]
    }
   ],
   "source": [
    "# Giải phương trình bậc nhất ax + b = 0\n",
    "a , b = map(float,(input(\"Nhap 2 he so a va b cua phuong trinh ax + b = 0:\").split()))\n",
    "if a != 0:\n",
    "    x = -b / a\n",
    "    print(\"Phuong trinh bac nhat nay co nghiem x =\" , x)\n",
    "else:\n",
    "    print(\"Day khong phai phuong trinh bac nhat vi he so a khong phu hop\")"
   ]
  },
  {
   "cell_type": "code",
   "execution_count": 18,
   "id": "42b031bc-3161-46b1-9717-8621a6837d35",
   "metadata": {},
   "outputs": [
    {
     "name": "stdin",
     "output_type": "stream",
     "text": [
      "Nhap he so a, b, c cua phuong trinh bac 2 ax^2 + bx + c = 0: 3 7 4\n"
     ]
    },
    {
     "name": "stdout",
     "output_type": "stream",
     "text": [
      "Phuong trinh bac 2 nay co 2 nghiem x1 = -1.0 x2 = -1.3333333333333333\n"
     ]
    }
   ],
   "source": [
    "# Giải phương trình bậc 2 ax^2 + bx + c = 0 trên tập số thực R\n",
    "a , b , c = map(float,(input(\"Nhap he so a, b, c cua phuong trinh bac 2 ax^2 + bx + c = 0:\").split()))\n",
    "if a != 0:\n",
    "    delta = b ** 2 - 4 * a * c\n",
    "    if delta > 0:\n",
    "        x1 = (-b + delta ** 0.5) / (2 * a)\n",
    "        x2 = (-b - delta ** 0.5) / (2 * a)\n",
    "        print(\"Phuong trinh bac 2 nay co 2 nghiem x1 =\" , x1 , \"x2 =\" , x2)\n",
    "    elif delta == 0:\n",
    "        x = -b / (2 * a)\n",
    "        print(\"Phuong trinh bac 2 nay co nghiem kep x =\" , x)\n",
    "    else:\n",
    "        print(\"Phuong trinh vo nghiem\")\n",
    "else:\n",
    "    print(\"Day khong phai phuong trinh bac 2 vi he so a khong phu hop\")"
   ]
  },
  {
   "cell_type": "code",
   "execution_count": 25,
   "id": "c38856ff-3117-4c84-a7e5-ceda475545ac",
   "metadata": {},
   "outputs": [
    {
     "name": "stdin",
     "output_type": "stream",
     "text": [
      "Nhap he so a, b, c cua phuong trinh bac 2 ax^2 + bx + c = 0: 3-4j 6+5j 4\n"
     ]
    },
    {
     "name": "stdout",
     "output_type": "stream",
     "text": [
      "Phuong trinh bac 2 nay co 2 nghiem x1 = (-0.28188874575275874+0.3110602021164023j) x2 = (0.36188874575275876-1.8710602021164022j)\n"
     ]
    }
   ],
   "source": [
    "# Giải phương trình bậc 2 ax^2 + bx + c = 0 trên tập số C\n",
    "a , b , c = map(complex,(input(\"Nhap he so a, b, c cua phuong trinh bac 2 ax^2 + bx + c = 0:\").split()))\n",
    "if a != 0:\n",
    "    delta = b ** 2 - 4 * a * c\n",
    "    if delta != 0:\n",
    "        x1 = (-b + delta ** 0.5) / (2 * a)\n",
    "        x2 = (-b - delta ** 0.5) / (2 * a)\n",
    "        print(\"Phuong trinh bac 2 nay co 2 nghiem x1 =\" , x1 , \"x2 =\" , x2)\n",
    "    else:\n",
    "        x = -b / (2 * a)\n",
    "        print(\"Phuong trinh da cho co nghiem x =\" , x)\n",
    "else:\n",
    "    print(\"He so khong phu hop voi phuong trinh bac 2\")"
   ]
  },
  {
   "cell_type": "code",
   "execution_count": 35,
   "id": "ce7aa56b-6f9e-47fb-8656-2b044ecd467d",
   "metadata": {},
   "outputs": [
    {
     "name": "stdin",
     "output_type": "stream",
     "text": [
      "Nhap 4 so a, b, c, d: 19 29 99 -192\n"
     ]
    },
    {
     "name": "stdout",
     "output_type": "stream",
     "text": [
      "So lon nhat trong 4 so la 99.0\n"
     ]
    }
   ],
   "source": [
    "# Tìm giá trị lớn nhất trong 4 số a, b, c, d nhập từ bàn phím\n",
    "a , b , c , d = map(float,(input(\"Nhap 4 so a, b, c, d:\").split()))\n",
    "if a >= b and a >= c and a >= d:\n",
    "    print(\"So lon nhat trong 4 so la\" , a)\n",
    "elif b >= a and b >= c and b >= d:\n",
    "    print(\"So lon nhat trong 4 so la\" , b)\n",
    "elif c >= a and c >= b and c >= d:\n",
    "    print(\"So lon nhat trong 4 so la\" , c)\n",
    "elif d >= a and d >= b and d >= c:\n",
    "    print(\"So lon nhat trong 4 so la\" , d)"
   ]
  },
  {
   "cell_type": "code",
   "execution_count": 37,
   "id": "00ef960f-4a6c-47ad-8647-74c3a1b4928a",
   "metadata": {},
   "outputs": [
    {
     "name": "stdin",
     "output_type": "stream",
     "text": [
      "Nhap 4 so a, b, c, d: 737 2212 2510 7967\n"
     ]
    },
    {
     "name": "stdout",
     "output_type": "stream",
     "text": [
      "So nho nhat trong 4 so la 737.0\n"
     ]
    }
   ],
   "source": [
    "# Tìm giá trị nhỏ nhất trong 4 số a, b, c, d nhập từ bàn phím\n",
    "a , b , c , d = map(float,(input(\"Nhap 4 so a, b, c, d:\").split()))\n",
    "if a <= b and a <= c and a <= d:\n",
    "    print(\"So nho nhat trong 4 so la\" , a)\n",
    "elif b <= a and b <= c and b <= d:\n",
    "    print(\"So nho nhat trong 4 so la\" , b)\n",
    "elif c <= a and c <= b and c <= d:\n",
    "    print(\"So nho nhat trong 4 so la\" , c)\n",
    "elif d <= a and d <= b and d <= c:\n",
    "    print(\"So nho nhat trong 4 so la\" , d)"
   ]
  },
  {
   "cell_type": "code",
   "execution_count": 11,
   "id": "695c7be7-a376-4d74-a87a-a774885928dc",
   "metadata": {},
   "outputs": [
    {
     "name": "stdin",
     "output_type": "stream",
     "text": [
      "Nhap 3 so a, b va m cho phuong trinh ax + by = m: 1 1 1\n",
      "Nhap 3 so c, d va n cho phuong trinh cx + dy = n: 2 2 3\n"
     ]
    },
    {
     "name": "stdout",
     "output_type": "stream",
     "text": [
      "He phuong trinh tuyen tinh vo nghiem\n"
     ]
    }
   ],
   "source": [
    "# Giải hệ phương trình tuyến tính ax + by = m và cx + dy = n\n",
    "a , b , m = map(float,(input(\"Nhap 3 so a, b va m cho phuong trinh ax + by = m:\").split()))\n",
    "c , d , n = map(float,(input(\"Nhap 3 so c, d va n cho phuong trinh cx + dy = n:\").split()))\n",
    "if a*d == b*c and ((a == 0 and b == 0 and m != 0) or (c == 0 and d == 0 and n != 0) or (a*n != m*c) or (b*n != c*m)):\n",
    "    print(\"He phuong trinh tuyen tinh vo nghiem\")\n",
    "elif a*d == b*c and (a == b == m == 0 or c == d == n == 0 or a*n == c*m == b*d):\n",
    "    print(\"He phuong trinh tuyen tinh vo so nghiem\")\n",
    "else:\n",
    "    e = b*c - a*d\n",
    "    f = m*c - a*n\n",
    "    y = f / e\n",
    "    x = (m - b*y) / a\n",
    "    print(\"He phuong trinh tuyen tinh da cho co nghiem duy nhat x =\" , x , \"va y =\" , y)"
   ]
  },
  {
   "cell_type": "code",
   "execution_count": 45,
   "id": "3e865180-3cef-4afb-a071-b258102506b6",
   "metadata": {},
   "outputs": [
    {
     "name": "stdin",
     "output_type": "stream",
     "text": [
      "Nhap thoi gian hoan thanh cong viec theo don vi giay: 8879\n"
     ]
    },
    {
     "name": "stdout",
     "output_type": "stream",
     "text": [
      "Thoi gian cong viec duoc quy doi thanh 2.0 gio 27.0 phut 59.0 giay\n"
     ]
    }
   ],
   "source": [
    "# Quy đổi thời gian công việc từ giây sang giờ, phút, giây\n",
    "x = float(input(\"Nhap thoi gian hoan thanh cong viec theo don vi giay:\"))\n",
    "if x >= 0:\n",
    "    h = x // 3600\n",
    "    m = (x - 3600 * h) // 60\n",
    "    s = x - 3600 * h - 60 * m\n",
    "    print(\"Thoi gian cong viec duoc quy doi thanh\" , h , \"gio\" , m , \"phut\" , s , \"giay\")\n",
    "else:\n",
    "    print(\"Thoi gian khong hop le\")"
   ]
  },
  {
   "cell_type": "code",
   "execution_count": 49,
   "id": "6c289a57-7b48-4923-8512-0504654e5f0d",
   "metadata": {},
   "outputs": [
    {
     "name": "stdin",
     "output_type": "stream",
     "text": [
      "Nhap toa do tam duong tron (a la hoanh do, b la tung do): 8;-6\n",
      "Nhap ban kinh duong tron R = 14\n",
      "Nhap toa do diem A (x la hoanh do, y la tung do): 22;-6\n"
     ]
    },
    {
     "name": "stdout",
     "output_type": "stream",
     "text": [
      "Diem A thuoc duong tron\n"
     ]
    }
   ],
   "source": [
    "# Nhập tâm và bán kính của một đường tròn (trong mp Oxy). Kiểm tra xem điểm A(x,y) có thuộc đường tròn không.\n",
    "a , b = map(float,(input(\"Nhap toa do tam duong tron (a la hoanh do, b la tung do):\").split(';')))\n",
    "R = float(input(\"Nhap ban kinh duong tron R =\"))\n",
    "x , y = map(float,(input(\"Nhap toa do diem A (x la hoanh do, y la tung do):\").split(';')))\n",
    "if R > 0:\n",
    "    if (x - a)**2 + (y - b)**2 == R**2:\n",
    "        print(\"Diem A thuoc duong tron\")\n",
    "    else:\n",
    "        print(\"Diem A khong thuoc duong tron\")\n",
    "else:\n",
    "    print(\"Ban kinh duong tron khong phu hop\")"
   ]
  },
  {
   "cell_type": "code",
   "execution_count": 14,
   "id": "17a49655-c8f6-419b-8514-155b3804c23a",
   "metadata": {},
   "outputs": [
    {
     "name": "stdin",
     "output_type": "stream",
     "text": [
      "Nhap 2 so thuc x va y -23 -5.3\n"
     ]
    },
    {
     "name": "stdout",
     "output_type": "stream",
     "text": [
      "-23.0 ^ -5.3 = (-3.5650132999004165e-08+4.9068198522221855e-08j)\n"
     ]
    }
   ],
   "source": [
    "# Tính x^y với x, y là số thực\n",
    "x , y = map(float,(input(\"Nhap 2 so thuc x va y\").split()))\n",
    "if x == 0 and y > 0:\n",
    "    print(x ,\"^\" , y , \"= 0\")\n",
    "elif x == 0 and y <= 0:\n",
    "    print(\"Khong tinh duoc\")\n",
    "else:\n",
    "    print(x , \"^\" , y , \"=\" , x**y)"
   ]
  }
 ],
 "metadata": {
  "kernelspec": {
   "display_name": "Python 3 (ipykernel)",
   "language": "python",
   "name": "python3"
  },
  "language_info": {
   "codemirror_mode": {
    "name": "ipython",
    "version": 3
   },
   "file_extension": ".py",
   "mimetype": "text/x-python",
   "name": "python",
   "nbconvert_exporter": "python",
   "pygments_lexer": "ipython3",
   "version": "3.13.7"
  }
 },
 "nbformat": 4,
 "nbformat_minor": 5
}
