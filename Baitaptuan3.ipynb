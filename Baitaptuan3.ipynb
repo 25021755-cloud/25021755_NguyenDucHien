{
 "cells": [
  {
   "cell_type": "code",
   "execution_count": 42,
   "id": "db7f36f9-dff4-4f55-bcfc-049376102e77",
   "metadata": {},
   "outputs": [
    {
     "name": "stdin",
     "output_type": "stream",
     "text": [
      "Nhap 2 so nguyen a va b: -18 18\n"
     ]
    },
    {
     "name": "stdout",
     "output_type": "stream",
     "text": [
      "Sau hoan doi thi a = 18 b = -18\n"
     ]
    }
   ],
   "source": [
    "#2: Hoán đổi 2 số không dùng biến tạm thời, dùng phép toán XOR trên bit để hoán đổi 2 biến\n",
    "a , b = map(int,(input(\"Nhap 2 so nguyen a va b:\").split()))\n",
    "a = a ^ b\n",
    "b = a ^ b\n",
    "a = a ^ b\n",
    "print(\"Sau hoan doi thi a =\" , a , \"b =\" , b)"
   ]
  },
  {
   "cell_type": "code",
   "execution_count": 10,
   "id": "a454b17e-764b-42d0-92c7-bf1be2a82101",
   "metadata": {},
   "outputs": [
    {
     "name": "stdin",
     "output_type": "stream",
     "text": [
      "Nhap mot so nguyen duong n: 2048\n"
     ]
    },
    {
     "name": "stdout",
     "output_type": "stream",
     "text": [
      "2048 la luy thua cua 2\n"
     ]
    }
   ],
   "source": [
    "#3: Kiểm tra xem 1 số có phải luỹ thừa của 2 không bằng toán tử bitwwise\n",
    "n = int(input(\"Nhap mot so nguyen duong n:\"))\n",
    "if (n >= 1 and n & (n - 1) == 0):\n",
    "    print(n , \"la luy thua cua 2\")\n",
    "else:\n",
    "    print(n , \"khong la luy thua cua 2\")"
   ]
  },
  {
   "cell_type": "code",
   "execution_count": 56,
   "id": "44d56064-c042-414b-a01f-32f4cbb240e4",
   "metadata": {},
   "outputs": [
    {
     "name": "stdin",
     "output_type": "stream",
     "text": [
      "Nhap 2 so m va n: 283.283 27\n"
     ]
    },
    {
     "name": "stdout",
     "output_type": "stream",
     "text": [
      "283.283 / 27.0 (lam tron len) = 11\n",
      "283.283 / 27.0 (lam tron xuong) = 10\n"
     ]
    }
   ],
   "source": [
    "#4,5: Chia m cho n và làm tròn lên, xuống\n",
    "m , n = map(float,(input(\"Nhap 2 so m va n:\").split()))\n",
    "import math\n",
    "if n != 0:\n",
    "    print(m , \"/\" , n , \"(lam tron len) =\" , math.ceil(m / n ))\n",
    "    print(m , \"/\" , n , \"(lam tron xuong) =\" , math.floor(m / n ))\n",
    "else:\n",
    "    print(\"Khong chia duoc cho 0\")"
   ]
  },
  {
   "cell_type": "code",
   "execution_count": 40,
   "id": "483ddb55-46ab-4b33-a2e6-7790b618c3d4",
   "metadata": {},
   "outputs": [
    {
     "name": "stdin",
     "output_type": "stream",
     "text": [
      "Nhap so nguyen duong x: 29\n"
     ]
    },
    {
     "name": "stdout",
     "output_type": "stream",
     "text": [
      "Odd\n"
     ]
    }
   ],
   "source": [
    "#6: Nhập số nguyên dương x, kiểm tra chẵn lẻ, chẵn in Even, lẻ in Odd\n",
    "x = int(input(\"Nhap so nguyen duong x:\"))\n",
    "if x > 0:\n",
    "    if x % 2 == 0:\n",
    "        print(\"Even\")\n",
    "    else:\n",
    "        print(\"Odd\")\n",
    "else:\n",
    "    print(\"Day khong phai so nguyen duong\")"
   ]
  },
  {
   "cell_type": "code",
   "execution_count": 41,
   "id": "04eff362-3d21-48d3-a43a-5c3053d54918",
   "metadata": {},
   "outputs": [
    {
     "name": "stdin",
     "output_type": "stream",
     "text": [
      "Nhap 2 so nguyen a va b: -28 0\n"
     ]
    },
    {
     "name": "stdout",
     "output_type": "stream",
     "text": [
      "No\n"
     ]
    }
   ],
   "source": [
    "#7: Nhập 2 số nguyên a và b, nếu cùng âm thì in Yes, nếu không thì in No\n",
    "a , b = map(int,(input(\"Nhap 2 so nguyen a va b:\").split()))\n",
    "if a < 0 and b < 0:\n",
    "    print(\"Yes\")\n",
    "else:\n",
    "    print(\"No\")"
   ]
  },
  {
   "cell_type": "code",
   "execution_count": 66,
   "id": "33b1de6a-3f9e-4c8d-9c8c-79850ae21729",
   "metadata": {},
   "outputs": [
    {
     "name": "stdin",
     "output_type": "stream",
     "text": [
      "Nhap chuoi chu cai thuong thu nhat: jdjdjrhthyh\n",
      "Nhap chuoi chu cai thuong thu hai: ieir\n"
     ]
    },
    {
     "name": "stdout",
     "output_type": "stream",
     "text": [
      "True\n"
     ]
    }
   ],
   "source": [
    "#8: Nhập vào 2 chuỗi a, b gồm các chữ cái thường. In ra True nếu chuỗi a dài hơn chuỗi b, ngược lại in ra False\n",
    "a = str(input(\"Nhap chuoi chu cai thuong thu nhat:\"))\n",
    "b = str(input(\"Nhap chuoi chu cai thuong thu hai:\"))\n",
    "print(bool(len(a) > len(b)))"
   ]
  },
  {
   "cell_type": "code",
   "execution_count": 67,
   "id": "74aba6fa-0734-4d93-8142-47576a498d9d",
   "metadata": {},
   "outputs": [
    {
     "name": "stdin",
     "output_type": "stream",
     "text": [
      "Nhap 3 so nguyen duong a, b, c: 34 68 33\n"
     ]
    },
    {
     "name": "stdout",
     "output_type": "stream",
     "text": [
      "No\n"
     ]
    }
   ],
   "source": [
    "#9: Nhập 3 số nguyên dương a, b, c. Kiểm tra xem 3 số này có cấu thành độ dài 1 tam giác không. Nếu có thì in Yes, không thì in No\n",
    "a , b , c = map(int,(input(\"Nhap 3 so nguyen duong a, b, c:\").split()))\n",
    "if a > 0 and b > 0 and c > 0:\n",
    "    if a + c > b and a + b > c and b + c > a:\n",
    "        print(\"Yes\")\n",
    "    else:\n",
    "        print(\"No\")\n",
    "else:\n",
    "    print(\"Co so khong phai so nguyen duong\")"
   ]
  },
  {
   "cell_type": "code",
   "execution_count": 68,
   "id": "83f5fb07-d82c-4f0f-a317-d7ad4d9d6b61",
   "metadata": {},
   "outputs": [
    {
     "name": "stdin",
     "output_type": "stream",
     "text": [
      "Nhap 4 so a, b, c, d: 23 45 11 -23\n"
     ]
    },
    {
     "name": "stdout",
     "output_type": "stream",
     "text": [
      "So lon nhat trong 4 so la 45\n"
     ]
    }
   ],
   "source": [
    "#10: Nhập 4 số nguyên, tìm số lớn nhất trong 4 số\n",
    "a , b , c , d = map(int,(input(\"Nhap 4 so a, b, c, d:\").split()))\n",
    "if a >= b and a >= c and a >= d:\n",
    "    print(\"So lon nhat trong 4 so la\" , a)\n",
    "elif b >= a and b >= c and b >= d:\n",
    "    print(\"So lon nhat trong 4 so la\" , b)\n",
    "elif c >= a and c >= b and c >= d:\n",
    "    print(\"So lon nhat trong 4 so la\" , c)\n",
    "elif d >= a and d >= b and d >= c:\n",
    "    print(\"So lon nhat trong 4 so la\" , d)"
   ]
  },
  {
   "cell_type": "code",
   "execution_count": 50,
   "id": "a609a6a1-841f-4f47-bce8-d4c82f9d38aa",
   "metadata": {},
   "outputs": [
    {
     "name": "stdin",
     "output_type": "stream",
     "text": [
      "Nhap 3 so nguyen duong a, b, c: 19 28 37\n"
     ]
    },
    {
     "name": "stdout",
     "output_type": "stream",
     "text": [
      "Tam giác thường\n"
     ]
    }
   ],
   "source": [
    "#11: Nhập 3 số nguyên dương a, b, c. Kiểm tra xem 3 số đó có là tam giác hợp lệ không\n",
    "#11: Nếu không thì in Không phải tam giác\n",
    "#11: Nếu có thì phân loại xem tam giác đó là Tam giác đều, Tam giác cân hay Tam giác thường\n",
    "a , b , c = map(int,(input(\"Nhap 3 so nguyen duong a, b, c:\").split()))\n",
    "if a > 0 and b > 0 and c > 0:\n",
    "    if a + c > b and a + b > c and b + c > a:\n",
    "        if a == b == c:\n",
    "            print(\"Tam giác đều\")\n",
    "        elif a == b != c or a != b == c:\n",
    "            print(\"Tam giác cân\")\n",
    "        elif a != b != c and not (a**2 + b**2 == c**2 or a**2 + c**2 == b**2 or b**2 + c**2 == a**2):\n",
    "            print(\"Tam giác thường\")\n",
    "    else:\n",
    "        print(\"Không phải tam giác\")\n",
    "else:\n",
    "    print(\"Có số không phải số nguyên dương\")"
   ]
  },
  {
   "cell_type": "code",
   "execution_count": 56,
   "id": "23271f72-73fc-4c75-b020-12cb9ba8d97b",
   "metadata": {},
   "outputs": [
    {
     "name": "stdin",
     "output_type": "stream",
     "text": [
      "Nhap nam n la so nguyen duong: 2025\n"
     ]
    },
    {
     "name": "stdout",
     "output_type": "stream",
     "text": [
      "No\n"
     ]
    }
   ],
   "source": [
    "#12: Kiểm tra xem 1 năm có phải năm nhuận không. Có thì in Yes, không thì in No\n",
    "n = int(input(\"Nhap nam n la so nguyen duong:\"))\n",
    "if n > 0:\n",
    "    if n % 400 == 0 or (n % 4 == 0 and n % 100 != 0):\n",
    "        print(\"Yes\")\n",
    "    else:\n",
    "        print(\"No\")\n",
    "else:\n",
    "    print(n , \"chua dat dieu kien la so nguyen duong\")"
   ]
  },
  {
   "cell_type": "code",
   "execution_count": 57,
   "id": "7ccd494f-0a07-4ecd-aec0-2ee525a8ac7f",
   "metadata": {},
   "outputs": [
    {
     "name": "stdin",
     "output_type": "stream",
     "text": [
      "Nhap 2 so thuc a va b cho phuong trinh bac nhat ax + b = 0: 9 5\n"
     ]
    },
    {
     "name": "stdout",
     "output_type": "stream",
     "text": [
      "Phuong trinh có nghiem x = -0.56 (da lam tron den 2 cstp)\n"
     ]
    }
   ],
   "source": [
    "#14: Giải phương trình bậc 1 ax + b = 0, làm tròn nghiệm đến 2 cstp, giải cả các trường hợp vô nghiệm và vô số nghiệm\n",
    "a , b = map(float,(input(\"Nhap 2 so thuc a va b cho phuong trinh bac nhat ax + b = 0:\").split()))\n",
    "if a == b == 0:\n",
    "    print(\"Phuong trinh co vo so nghiem\")\n",
    "elif a == 0 and b != 0:\n",
    "    print(\"Phuong trinh vo nghiem\")\n",
    "else:\n",
    "    print(\"Phuong trinh có nghiem x =\" , round(-b / a, 2) ,\"(da lam tron den 2 cstp)\")"
   ]
  },
  {
   "cell_type": "code",
   "execution_count": 69,
   "id": "d1c0a173-dc30-4eca-ae93-4f480809356a",
   "metadata": {},
   "outputs": [
    {
     "name": "stdin",
     "output_type": "stream",
     "text": [
      "Nhap diem trung binh cua 1 hoc sinh: 6\n"
     ]
    },
    {
     "name": "stdout",
     "output_type": "stream",
     "text": [
      "Học lực trung bình\n"
     ]
    }
   ],
   "source": [
    "#15: Xếp loại học lực theo thang điểm\n",
    "x = float(input(\"Nhap diem trung binh cua 1 hoc sinh:\"))\n",
    "if 8 <= x <= 10:\n",
    "    print(\"Học lực giỏi\")\n",
    "elif x >= 6.5:\n",
    "    print(\"Học lực khá\")\n",
    "elif x >= 5:\n",
    "    print(\"Học lực trung bình\")\n",
    "elif -1 <= x < 5:\n",
    "    print(\"Học lực yếu\")\n",
    "else:\n",
    "    print(\"Điểm không hợp lệ\")"
   ]
  },
  {
   "cell_type": "code",
   "execution_count": 17,
   "id": "7c5305d1-bbb5-4861-9a12-e208fd07d1aa",
   "metadata": {},
   "outputs": [
    {
     "name": "stdin",
     "output_type": "stream",
     "text": [
      "Nhap 1 so thuc: -19.69\n"
     ]
    },
    {
     "name": "stdout",
     "output_type": "stream",
     "text": [
      "-19 -20 -20\n"
     ]
    }
   ],
   "source": [
    "#16: Nhập một số thực, in ra kết quả làm tròn lên, xuống, làm tròn tới số nguyên gần nhất của nó (không dùng hàm có sẵn trong python)\n",
    "n = float(input(\"Nhap 1 so thuc:\"))\n",
    "a = int(n)\n",
    "if n >= 0:\n",
    "    if 0 < n - a < 0.5:\n",
    "        print(a + 1 , a , a)\n",
    "    elif 0.5 <= n - a < 1:\n",
    "        print(a + 1 , a , a + 1)\n",
    "    elif a == n:\n",
    "        print(a , a , a)\n",
    "else:\n",
    "    if 0.5 <= a - n < 1:\n",
    "        print(a , a - 1 , a - 1)\n",
    "    elif 0 < a - n < 0.5:\n",
    "        print(a , a - 1 , a)\n",
    "    elif a == n:\n",
    "        print(a , a , a)"
   ]
  },
  {
   "cell_type": "code",
   "execution_count": 17,
   "id": "85394197-2382-49d6-b14e-414223d9841f",
   "metadata": {},
   "outputs": [
    {
     "name": "stdin",
     "output_type": "stream",
     "text": [
      "Nhap 4 so a, b, c, d: 4 -8 16 -32\n"
     ]
    },
    {
     "name": "stdout",
     "output_type": "stream",
     "text": [
      "4 -8 16 -32 theo thu tu la 1 cap so nhan\n"
     ]
    }
   ],
   "source": [
    "#17: Nhập 4 số a, b, c, d. Kiểm tra xem 4 số theo thứ tự tự đó có làm một cấp số nhân công bội nguyên không\n",
    "a , b , c , d = map(int,(input(\"Nhap 4 so a, b, c, d:\").split()))\n",
    "if a * c == b**2 and b * d == c**2:\n",
    "    print(a , b , c , d , \"theo thu tu la 1 cap so nhan\")\n",
    "else:\n",
    "    print(a , b , c , d , \"theo thu tu khong phai 1 cap so nhan\")"
   ]
  },
  {
   "cell_type": "code",
   "execution_count": 2,
   "id": "3c54844c-f638-4ca3-a7e0-e76e63befd92",
   "metadata": {},
   "outputs": [
    {
     "data": {
      "text/plain": [
       "-91"
      ]
     },
     "execution_count": 2,
     "metadata": {},
     "output_type": "execute_result"
    }
   ],
   "source": [
    "int(-91.01)"
   ]
  },
  {
   "cell_type": "code",
   "execution_count": null,
   "id": "b8af4643-6bbf-4154-9ca6-2c4ac113cd65",
   "metadata": {},
   "outputs": [],
   "source": []
  }
 ],
 "metadata": {
  "kernelspec": {
   "display_name": "Python 3 (ipykernel)",
   "language": "python",
   "name": "python3"
  },
  "language_info": {
   "codemirror_mode": {
    "name": "ipython",
    "version": 3
   },
   "file_extension": ".py",
   "mimetype": "text/x-python",
   "name": "python",
   "nbconvert_exporter": "python",
   "pygments_lexer": "ipython3",
   "version": "3.13.7"
  }
 },
 "nbformat": 4,
 "nbformat_minor": 5
}
