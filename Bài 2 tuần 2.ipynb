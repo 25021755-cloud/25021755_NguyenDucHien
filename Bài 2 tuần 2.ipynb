{
 "cells": [
  {
   "cell_type": "code",
   "execution_count": 26,
   "id": "ab595adf-df93-4956-8c10-7d648b8563cd",
   "metadata": {},
   "outputs": [
    {
     "name": "stdout",
     "output_type": "stream",
     "text": [
      "Hello World!\n"
     ]
    }
   ],
   "source": [
    "print(\"Hello World!\")"
   ]
  },
  {
   "cell_type": "code",
   "execution_count": 1,
   "id": "39bc7d6d-9c0b-4528-9d85-6f5dbbfcc7e8",
   "metadata": {},
   "outputs": [
    {
     "name": "stdin",
     "output_type": "stream",
     "text": [
      "Nhap ten: Nguyen Duc Hien\n"
     ]
    },
    {
     "name": "stdout",
     "output_type": "stream",
     "text": [
      "Xin chao Nguyen Duc Hien\n"
     ]
    }
   ],
   "source": [
    "Ten = input(\"Nhap ten:\")\n",
    "print(\"Xin chao\", Ten)"
   ]
  },
  {
   "cell_type": "code",
   "execution_count": 28,
   "id": "3db0fe48-5df9-4237-a7af-60595b6faf20",
   "metadata": {},
   "outputs": [
    {
     "name": "stdin",
     "output_type": "stream",
     "text": [
      "a = 28\n",
      "b = 3\n"
     ]
    },
    {
     "name": "stdout",
     "output_type": "stream",
     "text": [
      "a + b = 31\n",
      "a - b = 25\n",
      "a * b = 84\n",
      "a // b = 9\n",
      "a % b = 1\n",
      "a / b (2cstp) = 9.33\n"
     ]
    }
   ],
   "source": [
    "a = int(input(\"a =\"))\n",
    "b = int(input(\"b =\"))\n",
    "x = round(a / b,2)\n",
    "print(\"a + b =\" , a + b)\n",
    "print(\"a - b =\" , a - b)\n",
    "print(\"a * b =\" , a * b)\n",
    "print(\"a // b =\" , a // b)\n",
    "print(\"a % b =\" , a % b)\n",
    "print(\"a / b (2cstp) =\" , x)"
   ]
  },
  {
   "cell_type": "code",
   "execution_count": 3,
   "id": "f31e3204-b0d3-4e3a-a081-a6b84157da84",
   "metadata": {},
   "outputs": [
    {
     "name": "stdin",
     "output_type": "stream",
     "text": [
      "Nhap cac diem so: 9.8 9.4 9.3 9.6 8.9 9.2\n"
     ]
    },
    {
     "name": "stdout",
     "output_type": "stream",
     "text": [
      "DTB la: 9.3\n"
     ]
    }
   ],
   "source": [
    "a1 , b1 , c1 , a2 , b2 , a3 = map(float,(input(\"Nhap cac diem so:\")).split())\n",
    "dtb = (a1 + b1 + c1 + 2 * (a2 + b2) + 3 * a3)/10\n",
    "DTB = round(dtb , 1)\n",
    "print(\"DTB la:\",DTB)"
   ]
  },
  {
   "cell_type": "code",
   "execution_count": 16,
   "id": "3f0572f1-8614-4228-864b-7454bfe618b9",
   "metadata": {},
   "outputs": [
    {
     "name": "stdin",
     "output_type": "stream",
     "text": [
      "Nhap hai so a va b: 2 3\n"
     ]
    },
    {
     "name": "stdout",
     "output_type": "stream",
     "text": [
      "a mu b = 8\n"
     ]
    }
   ],
   "source": [
    "a , b = map(int,(input(\"Nhap hai so a va b:\")).split())\n",
    "print(\"a mu b =\", a ** b)"
   ]
  },
  {
   "cell_type": "code",
   "execution_count": 5,
   "id": "9593fc8f-0dd9-44fd-a0fd-6b62f105f439",
   "metadata": {},
   "outputs": [
    {
     "name": "stdin",
     "output_type": "stream",
     "text": [
      "Nhap vao chu cai thuong: b\n"
     ]
    },
    {
     "name": "stdout",
     "output_type": "stream",
     "text": [
      "Chu cai hoa tuong ung la: B\n"
     ]
    }
   ],
   "source": [
    "a = input(\"Nhap vao chu cai thuong:\")\n",
    "ord(a)\n",
    "b = ord(a) - 32\n",
    "print(\"Chu cai hoa tuong ung la:\", chr(b))"
   ]
  },
  {
   "cell_type": "code",
   "execution_count": 29,
   "id": "bedbdeef-8db8-4044-a211-5f72befe16a4",
   "metadata": {},
   "outputs": [
    {
     "name": "stdout",
     "output_type": "stream",
     "text": [
      "A = 512\n",
      "B = 512\n"
     ]
    }
   ],
   "source": [
    "A = ((13**2)*3) +  5\n",
    "B = 13**2*3 + 5\n",
    "print(\"A =\", A)\n",
    "print(\"B =\", B)"
   ]
  },
  {
   "cell_type": "code",
   "execution_count": 17,
   "id": "b5370c49-eb35-4943-b02d-129c3013ffca",
   "metadata": {},
   "outputs": [
    {
     "name": "stdin",
     "output_type": "stream",
     "text": [
      "Nhap nhiet do theo thang do C: -40\n"
     ]
    },
    {
     "name": "stdout",
     "output_type": "stream",
     "text": [
      "Nhiet do theo thang do F la -40.0\n"
     ]
    }
   ],
   "source": [
    "C = float(input(\"Nhap nhiet do theo thang do C:\"))\n",
    "f = 1.8 * C + 32\n",
    "F = round(f , 2)\n",
    "print(\"Nhiet do theo thang do F la\", F)"
   ]
  },
  {
   "cell_type": "code",
   "execution_count": 18,
   "id": "65780a46-6d2a-433a-9b2e-ff55237d8db5",
   "metadata": {},
   "outputs": [
    {
     "name": "stdin",
     "output_type": "stream",
     "text": [
      "Nhap gia chiec dong ho Movado (USD): 499\n"
     ]
    },
    {
     "name": "stdout",
     "output_type": "stream",
     "text": [
      "Tong so tien ma Dat phai tra la (USD) 708.6\n"
     ]
    }
   ],
   "source": [
    "x = float(input(\"Nhap gia chiec dong ho Movado (USD):\"))\n",
    "t = 1.4 * x + 10 #tổng phí chịu thêm lá 40% nên tổng phải trả là 1.4x\n",
    "T = round(t , 2)\n",
    "print(\"Tong so tien ma Dat phai tra la (USD)\", T)"
   ]
  },
  {
   "cell_type": "code",
   "execution_count": 15,
   "id": "41e2b19e-4a3d-4461-9cec-98da12a6ffef",
   "metadata": {},
   "outputs": [
    {
     "name": "stdin",
     "output_type": "stream",
     "text": [
      "Nhap ten 3 ban: Bob Alice Helen\n"
     ]
    },
    {
     "name": "stdout",
     "output_type": "stream",
     "text": [
      "Hi Helen , Alice and Bob\n"
     ]
    }
   ],
   "source": [
    "a , b , c = input(\"Nhap ten 3 ban:\").split()\n",
    "print( \"Hi\" , c ,\",\" , b, \"and\" , a)"
   ]
  },
  {
   "cell_type": "code",
   "execution_count": 19,
   "id": "ada4a979-c1bf-46c9-bbda-3e74e4415d54",
   "metadata": {},
   "outputs": [
    {
     "name": "stdin",
     "output_type": "stream",
     "text": [
      "Nhap so gio va so phut: 27 86\n"
     ]
    },
    {
     "name": "stdout",
     "output_type": "stream",
     "text": [
      "27.0 h 86.0 m = 102360.0 s\n"
     ]
    }
   ],
   "source": [
    "h , m = map(float,(input(\"Nhap so gio va so phut:\").split()))\n",
    "print(h , \"h\" , m , \"m =\" , 3600 * h + 60 * m , \"s\") "
   ]
  },
  {
   "cell_type": "code",
   "execution_count": 20,
   "id": "2b031b78-4ece-4b00-9806-cfe38485363d",
   "metadata": {},
   "outputs": [
    {
     "name": "stdin",
     "output_type": "stream",
     "text": [
      "Nhap do dai canh cua khoi rubik: 13\n"
     ]
    },
    {
     "name": "stdout",
     "output_type": "stream",
     "text": [
      "So luong mieng dan nho can de dan khoi rubik la: 1014\n"
     ]
    }
   ],
   "source": [
    "n = int(input(\"Nhap do dai canh cua khoi rubik:\"))\n",
    "print(\"So luong mieng dan nho can de dan khoi rubik la:\" , 6*n**2)"
   ]
  },
  {
   "cell_type": "code",
   "execution_count": 22,
   "id": "959d9908-ead4-4e83-bee4-135b6a427f1a",
   "metadata": {},
   "outputs": [
    {
     "name": "stdin",
     "output_type": "stream",
     "text": [
      "Nhap 2 so nguyen duong a va b: 29 19\n"
     ]
    },
    {
     "name": "stdout",
     "output_type": "stream",
     "text": [
      "Chu so hang don vi trong phep nhan tren la 1\n"
     ]
    }
   ],
   "source": [
    "a , b = map(int,(input(\"Nhap 2 so nguyen duong a va b:\").split()))\n",
    "c = (a * b) % 10 #chia 1 số n chữ số cho 10 thì sẽ được phần nguyên là n-1 chữ số đầu và phần dư là chữ số cuối\n",
    "print(\"Chu so hang don vi trong phep nhan tren la\" , c)"
   ]
  },
  {
   "cell_type": "code",
   "execution_count": 25,
   "id": "9d625eb8-ae16-4c1a-822b-0b53b293c11e",
   "metadata": {},
   "outputs": [
    {
     "name": "stdin",
     "output_type": "stream",
     "text": [
      "Nhap 2 so a va b 6 89\n"
     ]
    },
    {
     "name": "stdout",
     "output_type": "stream",
     "text": [
      "a = 89.0 b = 6.0\n"
     ]
    }
   ],
   "source": [
    "a , b = map(float,(input(\"Nhap 2 so a va b\").split()))\n",
    "print(\"a =\" , b , \"b =\" , a)"
   ]
  },
  {
   "cell_type": "code",
   "execution_count": 31,
   "id": "b8e75eed-7336-4b87-be5a-6724ea6f30b6",
   "metadata": {},
   "outputs": [
    {
     "name": "stdin",
     "output_type": "stream",
     "text": [
      "Nhap so nguyen duong n 12\n"
     ]
    },
    {
     "name": "stdout",
     "output_type": "stream",
     "text": [
      "So sao thu n 12 = 397\n"
     ]
    }
   ],
   "source": [
    "n = int(input(\"Nhap so nguyen duong n\"))\n",
    "ss = 1 + 3 * n * (n - 1) \n",
    "print(\"So sao thu n\", n ,\"=\" , ss)"
   ]
  },
  {
   "cell_type": "code",
   "execution_count": 8,
   "id": "1b4b15d0-2759-47a0-874a-a584392824a6",
   "metadata": {},
   "outputs": [
    {
     "name": "stdout",
     "output_type": "stream",
     "text": [
      "Spring\n",
      "Summer\n",
      "Autumn\n",
      "Winter\n"
     ]
    }
   ],
   "source": [
    "print(\"Spring\")\n",
    "print(\"Summer\")\n",
    "print(\"Autumn\")\n",
    "print(\"Winter\")"
   ]
  },
  {
   "cell_type": "code",
   "execution_count": 10,
   "id": "8fc44ff3-18ea-42b3-b122-3e5085c4aa4e",
   "metadata": {},
   "outputs": [
    {
     "name": "stdout",
     "output_type": "stream",
     "text": [
      "*\n",
      "***\n",
      "*****\n"
     ]
    }
   ],
   "source": [
    "print(\"*\")\n",
    "print(\"***\")\n",
    "print(\"*****\")"
   ]
  },
  {
   "cell_type": "code",
   "execution_count": 4,
   "id": "351e2b26-cb36-428f-a5af-2d69394b3f9c",
   "metadata": {},
   "outputs": [
    {
     "name": "stdout",
     "output_type": "stream",
     "text": [
      "# # #   # #     # # #  # # #\n",
      "  #     #   #     #      #  \n",
      "  #     #    #    #      #  \n",
      "  #     #   #     #      #  \n",
      "  #     # #       #      #  \n"
     ]
    }
   ],
   "source": [
    "print(\"# # #   # #     # # #  # # #\") \n",
    "print(\"  #     #   #     #      #  \")\n",
    "print(\"  #     #    #    #      #  \")\n",
    "print(\"  #     #   #     #      #  \")\n",
    "print(\"  #     # #       #      #  \")"
   ]
  },
  {
   "cell_type": "code",
   "execution_count": 13,
   "id": "ea3d5ea2-3482-4912-ae10-0fc85639d936",
   "metadata": {},
   "outputs": [
    {
     "name": "stdout",
     "output_type": "stream",
     "text": [
      "Monday\n",
      "Tuesday\n",
      "Wednesday\n",
      "Thursday\n",
      "Friday\n",
      "Saturday\n",
      "Sunday\n"
     ]
    }
   ],
   "source": [
    "print(\"Monday\\nTuesday\\nWednesday\\nThursday\\nFriday\\nSaturday\\nSunday\")"
   ]
  },
  {
   "cell_type": "code",
   "execution_count": 14,
   "id": "f27cfd80-f505-44b9-81f7-a1e460ddb97e",
   "metadata": {},
   "outputs": [
    {
     "name": "stdout",
     "output_type": "stream",
     "text": [
      "January\n",
      "February\n",
      "March\n",
      "April\n",
      "May\n",
      "June\n",
      "July\n",
      "August\n",
      "September\n",
      "October\n",
      "November\n",
      "December\n"
     ]
    }
   ],
   "source": [
    "print(\"January\\nFebruary\\nMarch\\nApril\\nMay\\nJune\\nJuly\\nAugust\\nSeptember\\nOctober\\nNovember\\nDecember\")"
   ]
  },
  {
   "cell_type": "code",
   "execution_count": 15,
   "id": "33e12915-e45d-4fa5-8178-faabd62f72f5",
   "metadata": {},
   "outputs": [
    {
     "name": "stdout",
     "output_type": "stream",
     "text": [
      "Hello, world\n",
      "Hello, world\n",
      "Hello, world\n",
      "Hello, world\n",
      "Hello, world\n",
      "Hello, world\n",
      "Hello, world\n",
      "Hello, world\n",
      "Hello, world\n",
      "Hello, world\n"
     ]
    }
   ],
   "source": [
    "for i in range (1 , 11):\n",
    "    print(\"Hello, world\")"
   ]
  }
 ],
 "metadata": {
  "kernelspec": {
   "display_name": "Python 3 (ipykernel)",
   "language": "python",
   "name": "python3"
  },
  "language_info": {
   "codemirror_mode": {
    "name": "ipython",
    "version": 3
   },
   "file_extension": ".py",
   "mimetype": "text/x-python",
   "name": "python",
   "nbconvert_exporter": "python",
   "pygments_lexer": "ipython3",
   "version": "3.13.7"
  }
 },
 "nbformat": 4,
 "nbformat_minor": 5
}
